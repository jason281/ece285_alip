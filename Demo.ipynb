{
 "cells": [
  {
   "cell_type": "code",
   "execution_count": 4,
   "metadata": {
    "ExecuteTime": {
     "end_time": "2018-12-12T19:48:04.018949Z",
     "start_time": "2018-12-12T19:48:04.011746Z"
    }
   },
   "outputs": [],
   "source": [
    "import os, shutil\n",
    "from tqdm import tqdm\n",
    "import torch\n",
    "import numpy as np\n",
    "from matplotlib import pyplot as plt\n",
    "import random\n",
    "import torch"
   ]
  },
  {
   "cell_type": "markdown",
   "metadata": {},
   "source": [
    "# Randomly Smaple from Dataset"
   ]
  },
  {
   "cell_type": "markdown",
   "metadata": {},
   "source": [
    "(Don't run this unless you want to resample from the dataset)"
   ]
  },
  {
   "cell_type": "code",
   "execution_count": 9,
   "metadata": {
    "ExecuteTime": {
     "end_time": "2018-12-12T19:50:16.643416Z",
     "start_time": "2018-12-12T19:50:11.386052Z"
    }
   },
   "outputs": [],
   "source": [
    "root = '/data5/drone_machinelearning/amir/pix3d/'\n",
    "all_img = []\n",
    "for c in os.listdir(os.path.join(root, 'img')):\n",
    "    for filename in os.listdir(os.path.join(root, 'img', c)):\n",
    "        all_img.append((c, filename))\n",
    "demo_img = random.sample(all_img, 100)\n",
    "tgt = '/data5/drone_machinelearning/amir/ece285_alip/demo_img'\n",
    "for c, f in demo_img:\n",
    "    f, ext = os.path.splitext(f)\n",
    "    for folder in ['img', 'mask', 'render']:\n",
    "        if not os.path.exists(os.path.join(tgt, folder)):\n",
    "            os.mkdir(os.path.join(tgt, folder))\n",
    "        name = f + (ext if folder == 'img' else '.png')\n",
    "        shutil.copyfile(os.path.join(root, folder, c, name), os.path.join(tgt, folder, c+'_'+name))"
   ]
  },
  {
   "cell_type": "markdown",
   "metadata": {},
   "source": [
    "# Demo"
   ]
  },
  {
   "cell_type": "code",
   "execution_count": null,
   "metadata": {},
   "outputs": [],
   "source": []
  }
 ],
 "metadata": {
  "kernelspec": {
   "display_name": "Python 2",
   "language": "python",
   "name": "python2"
  },
  "language_info": {
   "codemirror_mode": {
    "name": "ipython",
    "version": 2
   },
   "file_extension": ".py",
   "mimetype": "text/x-python",
   "name": "python",
   "nbconvert_exporter": "python",
   "pygments_lexer": "ipython2",
   "version": "2.7.14"
  }
 },
 "nbformat": 4,
 "nbformat_minor": 2
}
